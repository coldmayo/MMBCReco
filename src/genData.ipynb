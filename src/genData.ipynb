{
 "cells": [
  {
   "cell_type": "code",
   "execution_count": null,
   "metadata": {},
   "outputs": [],
   "source": [
    "from PIL import Image\n",
    "import json\n",
    "import matplotlib.pyplot as plt\n",
    "import numpy as np\n",
    "import os\n",
    "from tqdm import tqdm"
   ]
  },
  {
   "cell_type": "code",
   "execution_count": null,
   "metadata": {},
   "outputs": [],
   "source": [
    "maskPath = \"MMBCReco/src/masks/track.png\"\n",
    "groundPath = \"MMBCReco/src/ground\"\n",
    "dataPath = \"MMBCReco/src/trainData/\"\n",
    "valPath = \"MMBCReco/src/valData/\"\n",
    "jsonPath = \"./dataInfo.json\"\n",
    "valjsonPath = \"./valInfo.json\""
   ]
  },
  {
   "cell_type": "code",
   "execution_count": null,
   "metadata": {},
   "outputs": [],
   "source": [
    "def datasetInfo(imageData,annotData):\n",
    "    return {\"categories\": [{\"id\": 1,\"name\": \"track\"}],\"images\": imageData,\"annotations\": annotData}"
   ]
  },
  {
   "cell_type": "code",
   "execution_count": null,
   "metadata": {},
   "outputs": [],
   "source": [
    "# taken from https://github.com/rajkifranciska/maskrcnn-from-scratch/blob/master/GenerateToyDataset_fromscratch.ipynb\n",
    "\n",
    "def bbox_to_rect(bboxparam):\n",
    "    # Convert the bounding box to 4 lines in matplotlib to visualize it. boundingbox=[min_x,min_y,max_x,max_y]\n",
    "    #in matplotlib line=start_x,end_x,start_y,end_y\n",
    "    #so line by line: lowerline=[x1,x2],[y1,y1] #upperline=[x1,x2],[y2,y2] #leftsideline=[x1,x1],[y1,y2] #rightsideline=[x2,x2],[y1,y2]\n",
    "        y1=bboxparam[1]\n",
    "        y2=bboxparam[3]+y1\n",
    "        x1=bboxparam[0]\n",
    "        x2=bboxparam[2]+x1\n",
    "        boxlines=[x1,x2],[y1,y1],[x1,x2],[y2,y2],[x1,x1],[y1,y2],[x2,x2],[y1,y2]\n",
    "        #to visualize use: matplotlib.plot(*bbox_to_rect(boundingbox),color='green')  on the same plot where imshow shows the mask\n",
    "        return boxlines"
   ]
  },
  {
   "cell_type": "code",
   "execution_count": null,
   "metadata": {},
   "outputs": [],
   "source": [
    "numImgs = 3000"
   ]
  },
  {
   "cell_type": "code",
   "execution_count": null,
   "metadata": {},
   "outputs": [],
   "source": [
    "# this cell creates data for either training or validation\n",
    "# also makes annotations for images saved to json file in coco format\n",
    "# more info on coco format found here: https://docs.aws.amazon.com/rekognition/latest/customlabels-dg/md-coco-overview.html\n",
    "\n",
    "imageData = []\n",
    "annotData = []\n",
    "rota = []\n",
    "annot = 0\n",
    "for i in tqdm(range(numImgs)):\n",
    "    numTrack = np.random.randint(1,7)\n",
    "    newsize = (300,300)\n",
    "    grounds = os.listdir(groundPath)\n",
    "    #ind = np.random.randint(1,len(grounds)-1)\n",
    "    ind = 0\n",
    "    gPath = os.path.join(groundPath,grounds[ind])\n",
    "    # img1: background image; img2: track image\n",
    "    img1 = Image.open(gPath)\n",
    "    img1 = img1.resize(newsize)\n",
    "    img2 = Image.open(maskPath)\n",
    "    for j in range(numTrack):\n",
    "        # rotate img2\n",
    "        rot = np.random.randint(0,360)\n",
    "        img2 = img2.rotate(rot,Image.NEAREST)\n",
    "        # resize img2\n",
    "        sizex = (np.random.randint(20,200))\n",
    "        sizey = (np.random.randint(50,100))\n",
    "        newsize = (sizex, sizey)\n",
    "        img2 = img2.resize(newsize)\n",
    "        if rot < 110 and rot > 70:\n",
    "            sizey+= 30\n",
    "            newsize = (sizex, sizey)\n",
    "            img2 = img2.resize(newsize)\n",
    "        elif rot < 290 and rot > 250:\n",
    "            sizey+= 30\n",
    "            newsize = (sizex, sizey)\n",
    "            img2 = img2.resize(newsize)\n",
    "        #rota.append(rot)\n",
    "        # put img2 in a random place on img1\n",
    "        x = np.random.randint(0,300-sizex)\n",
    "        y = np.random.randint(0,300-sizey)\n",
    "        img1.paste(img2, (x,y), mask = img2)\n",
    "        # save annotation data into json\n",
    "        annotData.append({\"id\":annot,\"category_id\":1,\"bbox\":[x,y,sizex,sizey],\"iscrowd\":0,\"image_id\":i,\"area\":sizex*sizey})\n",
    "        annot += 1\n",
    "    # save image\n",
    "    img1.save(valPath+\"img{x}.png\".format(x=i))\n",
    "    imageData.append({\"id\":i,\"width\":300,\"height\":300,\"file_name\":\"img{x}.png\".format(x=i)})"
   ]
  },
  {
   "cell_type": "code",
   "execution_count": null,
   "metadata": {},
   "outputs": [],
   "source": [
    "with open(valjsonPath, 'w') as f:\n",
    "    json_object = json.dump(datasetInfo(imageData,annotData),f)   "
   ]
  },
  {
   "cell_type": "code",
   "execution_count": null,
   "metadata": {},
   "outputs": [],
   "source": [
    "# proving my annotations work\n",
    "import matplotlib.image as mpimg\n",
    "\n",
    "with open(jsonPath) as j:\n",
    "    trackData = json.loads(j.read())\n",
    "for i in range(8):\n",
    "    imgNum = np.random.randint(0,numImgs-1)\n",
    "    bbox = []\n",
    "    #print(rota[imgNum])\n",
    "    for j in range(len(trackData[\"annotations\"])):\n",
    "        if trackData[\"annotations\"][j][\"image_id\"] == imgNum:\n",
    "            bbox.append(trackData[\"annotations\"][j]['bbox'])\n",
    "    #print(bbox)\n",
    "    annot = trackData[\"annotations\"][imgNum]['bbox']\n",
    "    print(\"Image selected:\",imgNum)\n",
    "    plt.subplot(2,4,i+1)\n",
    "    img = mpimg.imread(dataPath+\"img{x}.png\".format(x=imgNum))\n",
    "    imgplot = plt.imshow(img)\n",
    "    for j in bbox:\n",
    "        #print(j)\n",
    "        plt.plot(*bbox_to_rect(j), color='purple')   # had to use the greatest color\n",
    "plt.show()"
   ]
  },
  {
   "cell_type": "code",
   "execution_count": null,
   "metadata": {},
   "outputs": [],
   "source": []
  }
 ],
 "metadata": {
  "kernelspec": {
   "display_name": "myenv",
   "language": "python",
   "name": "python3"
  },
  "language_info": {
   "codemirror_mode": {
    "name": "ipython",
    "version": 3
   },
   "file_extension": ".py",
   "mimetype": "text/x-python",
   "name": "python",
   "nbconvert_exporter": "python",
   "pygments_lexer": "ipython3",
   "version": "3.11.3"
  },
  "orig_nbformat": 4
 },
 "nbformat": 4,
 "nbformat_minor": 2
}
