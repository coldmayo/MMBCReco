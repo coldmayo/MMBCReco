{
 "cells": [
  {
   "cell_type": "code",
   "execution_count": null,
   "metadata": {},
   "outputs": [],
   "source": [
    "import numpy as np\n",
    "import pandas as pd\n",
    "import matplotlib.pyplot as plt\n",
    "from mpl_toolkits.mplot3d import Axes3D\n",
    "from matplotlib import colors\n",
    "from skimage.color import rgb2gray, rgb2hsv, hsv2rgb\n",
    "from skimage.io import imread, imshow\n",
    "from sklearn.cluster import KMeans"
   ]
  },
  {
   "cell_type": "code",
   "execution_count": null,
   "metadata": {},
   "outputs": [],
   "source": [
    "def imageToDF(image):\n",
    "    df = pd.DataFrame([image[:,:,0].flatten(),image[:,:,1].flatten(),image[:,:,2].flatten()]).T\n",
    "    df.columns = [\"Red_Channel\",\"Green_Channel\",\"Blue_Channel\"]\n",
    "    return df"
   ]
  },
  {
   "cell_type": "code",
   "execution_count": null,
   "metadata": {},
   "outputs": [],
   "source": [
    "imgPath = \"/home/wallachmayas/bubbleID/dataManip/frames/chamber1frame0.jpg\"\n",
    "track = imread(imgPath)\n",
    "df_track = imageToDF(track)"
   ]
  },
  {
   "cell_type": "code",
   "execution_count": null,
   "metadata": {},
   "outputs": [],
   "source": [
    "plt.figure(num=None, figsize=(8, 6), dpi=80)\n",
    "kmeans = KMeans(n_clusters =  4, random_state = 62).fit(df_track)\n",
    "result = kmeans.labels_.reshape(track.shape[0],track.shape[1])\n",
    "imshow(result, cmap='viridis')\n",
    "plt.show()"
   ]
  },
  {
   "cell_type": "code",
   "execution_count": null,
   "metadata": {},
   "outputs": [],
   "source": [
    "fig, axes = plt.subplots(4,2, figsize=(12, 12))\n",
    "for n, ax in enumerate(axes.flatten()):\n",
    "    ax.imshow(result==[n], cmap='gray')\n",
    "    ax.set_axis_off()\n",
    "    \n",
    "fig.tight_layout()"
   ]
  },
  {
   "cell_type": "code",
   "execution_count": null,
   "metadata": {},
   "outputs": [],
   "source": []
  }
 ],
 "metadata": {
  "kernelspec": {
   "display_name": "myenv",
   "language": "python",
   "name": "python3"
  },
  "language_info": {
   "codemirror_mode": {
    "name": "ipython",
    "version": 3
   },
   "file_extension": ".py",
   "mimetype": "text/x-python",
   "name": "python",
   "nbconvert_exporter": "python",
   "pygments_lexer": "ipython3",
   "version": "3.11.3"
  },
  "orig_nbformat": 4
 },
 "nbformat": 4,
 "nbformat_minor": 2
}
